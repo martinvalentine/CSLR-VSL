{
 "cells": [
  {
   "cell_type": "code",
   "metadata": {
    "ExecuteTime": {
     "end_time": "2025-03-30T22:37:14.240282Z",
     "start_time": "2025-03-30T22:37:14.229283Z"
    }
   },
   "source": [
    "import numpy as np\n",
    "import os\n",
    "\n",
    "# Define the processed data directory\n",
    "npy_file_path = \"../CorrNet/preprocess/VSL/test_info.npy\"\n",
    "\n",
    "# Load the NumPy dictionary\n",
    "data = np.load(npy_file_path, allow_pickle=True).item()  # Convert to dictionary\n",
    "\n",
    "print(f\"\\nLoaded Test Data (Showing 3 Samples)\\n\" + \"=\"*50)\n",
    "\n",
    "# Print only 3 entries, formatted nicely\n",
    "for idx, (key, value) in enumerate(data.items()):\n",
    "     print(f\"Video ID: {value['fileid']}\")\n",
    "     print(f\"Folder: {value['folder']}\")\n",
    "     print(f\"Signer: {value['signer']}\")\n",
    "     print(f\"Gloss: {value['label']}\")\n",
    "     print(f\"Frames: {value['num_frames']}\")\n",
    "     print(f\"Info: {value['original_info']}\")\n",
    "     print(\"-\" * 50)\n",
    "     if idx == 2:  # Show only 3 entries\n",
    "          break"
   ],
   "outputs": [
    {
     "name": "stdout",
     "output_type": "stream",
     "text": [
      "\n",
      "Loaded Test Data (Showing 3 Samples)\n",
      "==================================================\n",
      "Video ID: S000001_P0001_T01\n",
      "Folder: test/S000001_P0001_T01/*.png\n",
      "Signer: singer0001\n",
      "Gloss: Bạn bận không\n",
      "Frames: 113\n",
      "Info: S000001_P0001_T01|113|Bạn bận không\n",
      "--------------------------------------------------\n",
      "Video ID: S000001_P0002_T01\n",
      "Folder: test/S000001_P0002_T01/*.png\n",
      "Signer: singer0002\n",
      "Gloss: Bạn bận không\n",
      "Frames: 125\n",
      "Info: S000001_P0002_T01|125|Bạn bận không\n",
      "--------------------------------------------------\n",
      "Video ID: S000001_P0003_T01\n",
      "Folder: test/S000001_P0003_T01/*.png\n",
      "Signer: singer0003\n",
      "Gloss: Bạn bận không\n",
      "Frames: 127\n",
      "Info: S000001_P0003_T01|127|Bạn bận không\n",
      "--------------------------------------------------\n"
     ]
    }
   ],
   "execution_count": 17
  },
  {
   "cell_type": "code",
   "metadata": {
    "ExecuteTime": {
     "end_time": "2025-03-30T22:30:40.470655Z",
     "start_time": "2025-03-30T22:30:40.464977Z"
    }
   },
   "source": [
    "import numpy as np\n",
    "\n",
    "# Define the processed data directory\n",
    "npy_file_path = \"/home/martinvalentine/Desktop/CSLR-VSL/CorrNet/preprocess/VSL/gloss_dict.npy\"\n",
    "\n",
    "# Load the NumPy dictionary\n",
    "gloss = np.load(npy_file_path, allow_pickle=True).item()  # Convert to dictionary\n",
    "\n",
    "# Print dictionary in a more readable format\n",
    "print(\"\\nLoaded Gloss Dictionary\\n\" + \"=\"*50)\n",
    "for key, value in gloss.items():\n",
    "    print(f\"Gloss ID: {key} ➝ Gloss Label: {value}\")\n",
    "print(\"=\"*50)\n"
   ],
   "outputs": [
    {
     "name": "stdout",
     "output_type": "stream",
     "text": [
      "\n",
      "Loaded Gloss Dictionary\n",
      "==================================================\n",
      "Gloss ID: Bạn ➝ Gloss Label: [1, [1, 24]]\n",
      "Gloss ID: bận ➝ Gloss Label: [2, [2, 12]]\n",
      "Gloss ID: chưa ➝ Gloss Label: [3, [5, 12]]\n",
      "Gloss ID: không ➝ Gloss Label: [4, [3, 12]]\n",
      "Gloss ID: ăn ➝ Gloss Label: [5, [4, 12]]\n",
      "==================================================\n"
     ]
    }
   ],
   "execution_count": 15
  },
  {
   "metadata": {
    "ExecuteTime": {
     "end_time": "2025-03-30T17:24:00.178726Z",
     "start_time": "2025-03-30T17:24:00.154722Z"
    }
   },
   "cell_type": "code",
   "source": [
    "import numpy as np\n",
    "import os\n",
    "import json\n",
    "\n",
    "# Define the processed data directory\n",
    "npy_file_path = \"../CorrNet/preprocess/train_info.npy\"\n",
    "\n",
    "# Load the NumPy dictionary\n",
    "data = np.load(npy_file_path, allow_pickle=True).item()  # Convert to dictionary\n",
    "\n",
    "# Check if data is a dictionary and has content\n",
    "if isinstance(data, dict) and data:\n",
    "    print(\"\\n📌 Loaded Test Data (Showing 3 Samples)\\n\" + \"=\" * 60)\n",
    "\n",
    "    # Get three sample items\n",
    "    sample_keys = list(data.keys())[:3]\n",
    "\n",
    "    for i, key in enumerate(sample_keys, 1):\n",
    "        print(f\"\\n✨ Sample {i}\")\n",
    "        print(\"-\" * 60)\n",
    "        print(f\"🔹 Key: {key}\")\n",
    "\n",
    "        value = data[key]\n",
    "\n",
    "        # Format dictionary values nicely\n",
    "        if isinstance(value, dict):\n",
    "            formatted_value = json.dumps(value, indent=4, ensure_ascii=False)\n",
    "            print(f\"📄 Value:\\n{formatted_value}\")\n",
    "        else:\n",
    "            print(f\"📄 Value: {value}\")\n",
    "\n",
    "        print(\"-\" * 60)\n",
    "else:\n",
    "    print(\"\\n❌ Error: Loaded data is empty or not a dictionary.\")\n"
   ],
   "outputs": [
    {
     "name": "stdout",
     "output_type": "stream",
     "text": [
      "\n",
      "📌 Loaded Test Data (Showing 3 Samples)\n",
      "============================================================\n",
      "\n",
      "✨ Sample 1\n",
      "------------------------------------------------------------\n",
      "🔹 Key: prefix\n",
      "📄 Value: /disk1/dataset/PHOENIX-2014-T-release-v3/PHOENIX-2014-T/features/fullFrame-210x260px\n",
      "------------------------------------------------------------\n",
      "\n",
      "✨ Sample 2\n",
      "------------------------------------------------------------\n",
      "🔹 Key: 0\n",
      "📄 Value:\n",
      "{\n",
      "    \"fileid\": \"11August_2010_Wednesday_tagesschau-1\",\n",
      "    \"folder\": \"train/11August_2010_Wednesday_tagesschau-1/*.png\",\n",
      "    \"signer\": \"Signer08\",\n",
      "    \"label\": \"JETZT WETTER MORGEN DONNERSTAG ZWOELF FEBRUAR\",\n",
      "    \"num_frames\": 86,\n",
      "    \"original_info\": \"11August_2010_Wednesday_tagesschau-1|11August_2010_Wednesday_tagesschau-1/*.png|-1|-1|Signer08|JETZT WETTER MORGEN DONNERSTAG ZWOELF FEBRUAR|und nun die wettervorhersage für morgen donnerstag den zwölften august\"\n",
      "}\n",
      "------------------------------------------------------------\n",
      "\n",
      "✨ Sample 3\n",
      "------------------------------------------------------------\n",
      "🔹 Key: 1\n",
      "📄 Value:\n",
      "{\n",
      "    \"fileid\": \"11August_2010_Wednesday_tagesschau-4\",\n",
      "    \"folder\": \"train/11August_2010_Wednesday_tagesschau-4/*.png\",\n",
      "    \"signer\": \"Signer08\",\n",
      "    \"label\": \"ORT REGEN DURCH REGEN KOENNEN UEBERSCHWEMMUNG KOENNEN\",\n",
      "    \"num_frames\": 126,\n",
      "    \"original_info\": \"11August_2010_Wednesday_tagesschau-4|11August_2010_Wednesday_tagesschau-4/*.png|-1|-1|Signer08|ORT REGEN DURCH REGEN KOENNEN UEBERSCHWEMMUNG KOENNEN|mancherorts regnet es auch länger und ergiebig auch lokale überschwemmungen sind wieder möglich\"\n",
      "}\n",
      "------------------------------------------------------------\n"
     ]
    }
   ],
   "execution_count": 8
  },
  {
   "metadata": {
    "ExecuteTime": {
     "end_time": "2025-03-30T22:50:51.836990Z",
     "start_time": "2025-03-30T22:50:51.811805Z"
    }
   },
   "cell_type": "code",
   "source": [
    "import numpy as np\n",
    "dev_info = np.load(\"./VSL/dev_info.npy\", allow_pickle=True).item()\n",
    "print(dev_info[0]['folder']) # Example: Check the 'folder' for the first entry"
   ],
   "outputs": [
    {
     "ename": "FileNotFoundError",
     "evalue": "[Errno 2] No such file or directory: './VSL/dev_info.npy'",
     "output_type": "error",
     "traceback": [
      "\u001B[0;31m---------------------------------------------------------------------------\u001B[0m",
      "\u001B[0;31mFileNotFoundError\u001B[0m                         Traceback (most recent call last)",
      "Cell \u001B[0;32mIn[18], line 2\u001B[0m\n\u001B[1;32m      1\u001B[0m \u001B[38;5;28;01mimport\u001B[39;00m \u001B[38;5;21;01mnumpy\u001B[39;00m \u001B[38;5;28;01mas\u001B[39;00m \u001B[38;5;21;01mnp\u001B[39;00m\n\u001B[0;32m----> 2\u001B[0m dev_info \u001B[38;5;241m=\u001B[39m \u001B[43mnp\u001B[49m\u001B[38;5;241;43m.\u001B[39;49m\u001B[43mload\u001B[49m\u001B[43m(\u001B[49m\u001B[38;5;124;43m\"\u001B[39;49m\u001B[38;5;124;43m./VSL/dev_info.npy\u001B[39;49m\u001B[38;5;124;43m\"\u001B[39;49m\u001B[43m,\u001B[49m\u001B[43m \u001B[49m\u001B[43mallow_pickle\u001B[49m\u001B[38;5;241;43m=\u001B[39;49m\u001B[38;5;28;43;01mTrue\u001B[39;49;00m\u001B[43m)\u001B[49m\u001B[38;5;241m.\u001B[39mitem()\n\u001B[1;32m      3\u001B[0m \u001B[38;5;28mprint\u001B[39m(dev_info[\u001B[38;5;241m0\u001B[39m][\u001B[38;5;124m'\u001B[39m\u001B[38;5;124mfolder\u001B[39m\u001B[38;5;124m'\u001B[39m]) \u001B[38;5;66;03m# Example: Check the 'folder' for the first entry\u001B[39;00m\n",
      "File \u001B[0;32m~/anaconda3/envs/corNet/lib/python3.8/site-packages/numpy/lib/npyio.py:417\u001B[0m, in \u001B[0;36mload\u001B[0;34m(file, mmap_mode, allow_pickle, fix_imports, encoding)\u001B[0m\n\u001B[1;32m    415\u001B[0m     own_fid \u001B[38;5;241m=\u001B[39m \u001B[38;5;28;01mFalse\u001B[39;00m\n\u001B[1;32m    416\u001B[0m \u001B[38;5;28;01melse\u001B[39;00m:\n\u001B[0;32m--> 417\u001B[0m     fid \u001B[38;5;241m=\u001B[39m stack\u001B[38;5;241m.\u001B[39menter_context(\u001B[38;5;28;43mopen\u001B[39;49m\u001B[43m(\u001B[49m\u001B[43mos_fspath\u001B[49m\u001B[43m(\u001B[49m\u001B[43mfile\u001B[49m\u001B[43m)\u001B[49m\u001B[43m,\u001B[49m\u001B[43m \u001B[49m\u001B[38;5;124;43m\"\u001B[39;49m\u001B[38;5;124;43mrb\u001B[39;49m\u001B[38;5;124;43m\"\u001B[39;49m\u001B[43m)\u001B[49m)\n\u001B[1;32m    418\u001B[0m     own_fid \u001B[38;5;241m=\u001B[39m \u001B[38;5;28;01mTrue\u001B[39;00m\n\u001B[1;32m    420\u001B[0m \u001B[38;5;66;03m# Code to distinguish from NumPy binary files and pickles.\u001B[39;00m\n",
      "\u001B[0;31mFileNotFoundError\u001B[0m: [Errno 2] No such file or directory: './VSL/dev_info.npy'"
     ]
    }
   ],
   "execution_count": 18
  }
 ],
 "metadata": {
  "kernelspec": {
   "display_name": "corNet",
   "language": "python",
   "name": "python3"
  },
  "language_info": {
   "codemirror_mode": {
    "name": "ipython",
    "version": 3
   },
   "file_extension": ".py",
   "mimetype": "text/x-python",
   "name": "python",
   "nbconvert_exporter": "python",
   "pygments_lexer": "ipython3",
   "version": "3.8.20"
  }
 },
 "nbformat": 4,
 "nbformat_minor": 2
}
